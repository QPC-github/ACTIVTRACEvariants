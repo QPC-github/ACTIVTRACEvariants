{
 "cells": [
  {
   "cell_type": "code",
   "execution_count": 1,
   "metadata": {},
   "outputs": [],
   "source": [
    "from Bio import SeqIO\n",
    "import numpy as np\n",
    "import pandas as pd"
   ]
  },
  {
   "cell_type": "code",
   "execution_count": 2,
   "metadata": {},
   "outputs": [],
   "source": [
    "ref_fl = \"../data/reference.fasta\""
   ]
  },
  {
   "cell_type": "code",
   "execution_count": 3,
   "metadata": {},
   "outputs": [],
   "source": [
    "def get_homopolymers(seq_fl):\n",
    "    \"\"\"Annotate homoplymer regions of a genome\n",
    "    Input: fasta file\n",
    "    Output: Pandas dataframe with\n",
    "    homopolymer name, star, end, nucleotide, and length\n",
    "    \"\"\"\n",
    "    hmpmer_len = 1\n",
    "    prev_nuc = \"\"\n",
    "    hmpmer = \"\"\n",
    "    nuc_pos = 1\n",
    "    hmpmer_pos = []\n",
    "    hmpmer_dic = {}\n",
    "    hu1 = SeqIO.read(seq_fl, \"fasta\")\n",
    "    for pos_index, nuc in enumerate(hu1):\n",
    "        if nuc == prev_nuc:\n",
    "            hmpmer_len = hmpmer_len + 1\n",
    "            hmpmer_pos.append(pos_index)\n",
    "            hmp_name = \"hmp\" + str(min(hmpmer_pos))\n",
    "            hmp_nuc = nuc\n",
    "            hmp_len = max(hmpmer_pos) - min(hmpmer_pos) + 2\n",
    "            hmpmer_dic[hmp_name] = (\n",
    "                min(hmpmer_pos),\n",
    "                max(hmpmer_pos) + 1,\n",
    "                nuc,\n",
    "                hmp_len,\n",
    "                list(\n",
    "                    np.arange(min(hmpmer_pos) - hmp_len, max(hmpmer_pos) + 2 + hmp_len)\n",
    "                ),\n",
    "            )\n",
    "        else:\n",
    "            hmpmer_pos = []\n",
    "            hmpmer_len = 0\n",
    "        prev_nuc = nuc\n",
    "    hmp_df = pd.DataFrame.from_dict(\n",
    "        hmpmer_dic,\n",
    "        orient=\"index\",\n",
    "        columns=[\"start\", \"end\", \"nucleotide\", \"length\", \"hmp_pos\"],\n",
    "    )\n",
    "    hmp_df = hmp_df.explode(\"hmp_pos\", ignore_index=True)\n",
    "    return hmp_df"
   ]
  },
  {
   "cell_type": "code",
   "execution_count": 4,
   "metadata": {},
   "outputs": [
    {
     "data": {
      "text/html": [
       "<div>\n",
       "<style scoped>\n",
       "    .dataframe tbody tr th:only-of-type {\n",
       "        vertical-align: middle;\n",
       "    }\n",
       "\n",
       "    .dataframe tbody tr th {\n",
       "        vertical-align: top;\n",
       "    }\n",
       "\n",
       "    .dataframe thead th {\n",
       "        text-align: right;\n",
       "    }\n",
       "</style>\n",
       "<table border=\"1\" class=\"dataframe\">\n",
       "  <thead>\n",
       "    <tr style=\"text-align: right;\">\n",
       "      <th></th>\n",
       "      <th>start</th>\n",
       "      <th>end</th>\n",
       "      <th>nucleotide</th>\n",
       "      <th>length</th>\n",
       "      <th>hmp_pos</th>\n",
       "    </tr>\n",
       "  </thead>\n",
       "  <tbody>\n",
       "    <tr>\n",
       "      <th>141</th>\n",
       "      <td>79</td>\n",
       "      <td>82</td>\n",
       "      <td>A</td>\n",
       "      <td>4</td>\n",
       "      <td>75</td>\n",
       "    </tr>\n",
       "    <tr>\n",
       "      <th>142</th>\n",
       "      <td>79</td>\n",
       "      <td>82</td>\n",
       "      <td>A</td>\n",
       "      <td>4</td>\n",
       "      <td>76</td>\n",
       "    </tr>\n",
       "    <tr>\n",
       "      <th>143</th>\n",
       "      <td>79</td>\n",
       "      <td>82</td>\n",
       "      <td>A</td>\n",
       "      <td>4</td>\n",
       "      <td>77</td>\n",
       "    </tr>\n",
       "    <tr>\n",
       "      <th>144</th>\n",
       "      <td>79</td>\n",
       "      <td>82</td>\n",
       "      <td>A</td>\n",
       "      <td>4</td>\n",
       "      <td>78</td>\n",
       "    </tr>\n",
       "    <tr>\n",
       "      <th>145</th>\n",
       "      <td>79</td>\n",
       "      <td>82</td>\n",
       "      <td>A</td>\n",
       "      <td>4</td>\n",
       "      <td>79</td>\n",
       "    </tr>\n",
       "  </tbody>\n",
       "</table>\n",
       "</div>"
      ],
      "text/plain": [
       "     start  end nucleotide  length hmp_pos\n",
       "141     79   82          A       4      75\n",
       "142     79   82          A       4      76\n",
       "143     79   82          A       4      77\n",
       "144     79   82          A       4      78\n",
       "145     79   82          A       4      79"
      ]
     },
     "execution_count": 4,
     "metadata": {},
     "output_type": "execute_result"
    }
   ],
   "source": [
    "hmp_tbl = get_homopolymers(ref_fl)\n",
    "hmp_tbl = hmp_tbl[hmp_tbl['length'] > 3]\n",
    "hmp_tbl = hmp_tbl.drop_duplicates(['hmp_pos'])\n",
    "hmp_tbl.head()"
   ]
  }
 ],
 "metadata": {
  "kernelspec": {
   "display_name": "Python 3",
   "language": "python",
   "name": "python3"
  },
  "language_info": {
   "codemirror_mode": {
    "name": "ipython",
    "version": 3
   },
   "file_extension": ".py",
   "mimetype": "text/x-python",
   "name": "python",
   "nbconvert_exporter": "python",
   "pygments_lexer": "ipython3",
   "version": "3.8.10"
  },
  "vscode": {
   "interpreter": {
    "hash": "31f2aee4e71d21fbe5cf8b01ff0e069b9275f58929596ceb00d14d90e3e16cd6"
   }
  }
 },
 "nbformat": 4,
 "nbformat_minor": 4
}
